{
 "cells": [
  {
   "cell_type": "markdown",
   "metadata": {
    "_uuid": "3cb3f3c5c27def83d011f2de99c8cdb79a1b7b45"
   },
   "source": [
    "# Predicting the winner of the 2018 FIFA World Cup\n",
    "**Aim**: \n",
    "to predict the outcome of the FIFA World Cup 2018\n",
    "\n",
    " **Method**:\n",
    "- Use data from Kaggle to model the outcome of certain pairings between teams, given their rank, points, and the weighted point difference with the opponent.\n",
    "- Use this model to predict the outcome of the group rounds and then the single-elimination phase\n",
    "\n",
    "**Summary**\n",
    "According to the analysis below, the team that will win the World Cup is the [underdog according to the bookies](https://www.oddschecker.com/football/world-cup/winner): Germany . But this is not the only interesting thing you can observe. If [not interested in the data munging part](https://ih1.redbubble.net/image.441592463.7099/sticker,375x360-bg,ffffff.u1.png) head to the last section (Visualization) and see the single-elimination phase. To make the story more interesting for the sport lovers, I report fair odds (i.e. fair market, without bookmaker margin) instead of the raw probability output. \n",
    "\n",
    "Couple things to note, \n",
    "- it seems Egypt qualifies to the best 16 and their match with Portugal is the safest bet in the phase. \n",
    "- In this simulation, Brasil cannot make it through Belgium.. I'm sure here many would consider otherwise\n",
    "- It seems that neither CRonaldo (POR) nor LMessi (ARG) is going to play in the final but they are going to play against each other in the quarterfinals...\n",
    "\n",
    "All in all, I'm looking forward to the tournament! Place your bets and get ready you too! \n",
    "\n",
    "Cheers!"
   ]
  },
  {
   "cell_type": "markdown",
   "metadata": {
    "_uuid": "55d7132bf01a6553a087fd6ce7aad6be3553e4f5"
   },
   "source": [
    "# Data I/O\n",
    "\n",
    "I use three datasets\n",
    "- FIFA rankings from 1993 to 2018 (courtesy of [Tadhg Fitzgerald](https://www.kaggle.com/tadhgfitzgerald) \n",
    "> This one I used to get the FIFA ranking and points for the teams, which is a monthly changing rank previously shown as a [decent predictor](http://www.sportingintelligence.com/2014/06/20/upsets-giant-killings-adios-bye-bye-fifa-rankings-still-ahead-in-predicting-results-200601/) of team performance\n",
    "- International Soccer matches from 1872 to 2018 (courtesy of [Mart Jürisoo](https://www.kaggle.com/martj42))\n",
    "> This I will use to find out how much the difference in point, ranks and the current rank of the team affects the outocme of a match\n",
    "- FIFA World Cup 2018 data set (courtesy of [Nuggs](https://www.kaggle.com/ahmedelnaggar))\n",
    "> This I will use to get the upcoming matches \n",
    "\n",
    "Comment: Right when reading the datafiles I take care of the renaming of the Countries because there is some mismatch in the sources"
   ]
  },
  {
   "cell_type": "code",
   "execution_count": 1,
   "metadata": {
    "_cell_guid": "b1076dfc-b9ad-4769-8c92-a6c4dae69d19",
    "_uuid": "8f2839f25d086af736a60e9eeb907d3b93b6e0e5"
   },
   "outputs": [],
   "source": [
    "import numpy as np # linear algebra\n",
    "import pandas as pd # data processing, CSV file I/O (e.g. pd.read_csv)\n",
    "from matplotlib import pyplot as plt\n",
    "\n",
    "rankings = pd.read_csv('fifa_ranking.csv')\n",
    "rankings = rankings.loc[:,['rank', 'country_full', 'country_abrv', 'cur_year_avg_weighted', 'rank_date', \n",
    "                           'two_year_ago_weighted', 'three_year_ago_weighted']]\n",
    "rankings = rankings.replace({\"IR Iran\": \"Iran\"})\n",
    "rankings['weighted_points'] =  rankings['cur_year_avg_weighted'] + rankings['two_year_ago_weighted'] + rankings['three_year_ago_weighted']\n",
    "rankings['rank_date'] = pd.to_datetime(rankings['rank_date'])\n",
    "\n",
    "matches = pd.read_csv('results.csv')\n",
    "matches =  matches.replace({'Germany DR': 'Germany', 'China': 'China PR'})\n",
    "matches['date'] = pd.to_datetime(matches['date'])\n",
    "\n",
    "world_cup = pd.read_csv('World Cup 2018 Dataset.csv')\n",
    "world_cup = world_cup.loc[:, ['Team', 'Group', 'First match \\nagainst', 'Second match\\n against', 'Third match\\n against']]\n",
    "world_cup = world_cup.dropna(how='all')\n",
    "world_cup = world_cup.replace({\"IRAN\": \"Iran\", \n",
    "                               \"Costarica\": \"Costa Rica\", \n",
    "                               \"Porugal\": \"Portugal\", \n",
    "                               \"Columbia\": \"Colombia\", \n",
    "                               \"Korea\" : \"Korea Republic\"})\n",
    "world_cup = world_cup.set_index('Team')"
   ]
  },
  {
   "cell_type": "code",
   "execution_count": 5,
   "metadata": {},
   "outputs": [
    {
     "data": {
      "text/html": [
       "<div>\n",
       "<style scoped>\n",
       "    .dataframe tbody tr th:only-of-type {\n",
       "        vertical-align: middle;\n",
       "    }\n",
       "\n",
       "    .dataframe tbody tr th {\n",
       "        vertical-align: top;\n",
       "    }\n",
       "\n",
       "    .dataframe thead th {\n",
       "        text-align: right;\n",
       "    }\n",
       "</style>\n",
       "<table border=\"1\" class=\"dataframe\">\n",
       "  <thead>\n",
       "    <tr style=\"text-align: right;\">\n",
       "      <th></th>\n",
       "      <th>Group</th>\n",
       "      <th>First match \n",
       "against</th>\n",
       "      <th>Second match\n",
       " against</th>\n",
       "      <th>Third match\n",
       " against</th>\n",
       "    </tr>\n",
       "    <tr>\n",
       "      <th>Team</th>\n",
       "      <th></th>\n",
       "      <th></th>\n",
       "      <th></th>\n",
       "      <th></th>\n",
       "    </tr>\n",
       "  </thead>\n",
       "  <tbody>\n",
       "    <tr>\n",
       "      <th>Iran</th>\n",
       "      <td>B</td>\n",
       "      <td>Morocco</td>\n",
       "      <td>Spain</td>\n",
       "      <td>Portugal</td>\n",
       "    </tr>\n",
       "    <tr>\n",
       "      <th>Denmark</th>\n",
       "      <td>C</td>\n",
       "      <td>Peru</td>\n",
       "      <td>Australia</td>\n",
       "      <td>France</td>\n",
       "    </tr>\n",
       "    <tr>\n",
       "      <th>Morocco</th>\n",
       "      <td>B</td>\n",
       "      <td>Iran</td>\n",
       "      <td>Portugal</td>\n",
       "      <td>Spain</td>\n",
       "    </tr>\n",
       "    <tr>\n",
       "      <th>Mexico</th>\n",
       "      <td>F</td>\n",
       "      <td>Germany</td>\n",
       "      <td>Korea Republic</td>\n",
       "      <td>Sweden</td>\n",
       "    </tr>\n",
       "    <tr>\n",
       "      <th>Brazil</th>\n",
       "      <td>E</td>\n",
       "      <td>Switzerland</td>\n",
       "      <td>Costa Rica</td>\n",
       "      <td>Serbia</td>\n",
       "    </tr>\n",
       "  </tbody>\n",
       "</table>\n",
       "</div>"
      ],
      "text/plain": [
       "        Group First match \\nagainst Second match\\n against  \\\n",
       "Team                                                         \n",
       "Iran        B               Morocco                  Spain   \n",
       "Denmark     C                  Peru              Australia   \n",
       "Morocco     B                  Iran               Portugal   \n",
       "Mexico      F               Germany         Korea Republic   \n",
       "Brazil      E           Switzerland             Costa Rica   \n",
       "\n",
       "        Third match\\n against  \n",
       "Team                           \n",
       "Iran                 Portugal  \n",
       "Denmark                France  \n",
       "Morocco                 Spain  \n",
       "Mexico                 Sweden  \n",
       "Brazil                 Serbia  "
      ]
     },
     "execution_count": 5,
     "metadata": {},
     "output_type": "execute_result"
    }
   ],
   "source": [
    "world_cup.sample(5)"
   ]
  },
  {
   "cell_type": "markdown",
   "metadata": {
    "_uuid": "a34c1cd5a26c1024b0638d2d93fc0c691b290024"
   },
   "source": [
    "# Feature extraction\n",
    "\n",
    "I join the matches with the ranks of the different teams. \n",
    "\n",
    "Then extract some features:\n",
    "- point and rank differences\n",
    "- if the game was for some stakes, because my naive view was that typically friendly matches are harder to predict (TODO differentiate the WC matches from the rest)\n",
    "- how many days the different teams were able to rest but this turned out to be not important enough to be worth the hassle\n",
    "- include the participant countries as a one hot vector but that did not appear to be a strong predictor either"
   ]
  },
  {
   "cell_type": "code",
   "execution_count": 6,
   "metadata": {
    "_uuid": "863552790217b049b611165e162ad3182f1692f9"
   },
   "outputs": [],
   "source": [
    "# I want to have the ranks for every day \n",
    "rankings = rankings.set_index(['rank_date'])\\\n",
    "            .groupby(['country_full'], group_keys=False)\\\n",
    "            .resample('D').first()\\\n",
    "            .fillna(method='ffill')\\\n",
    "            .reset_index()\n",
    "\n",
    "# join the ranks\n",
    "matches = matches.merge(rankings, \n",
    "                        left_on=['date', 'home_team'], \n",
    "                        right_on=['rank_date', 'country_full'])\n",
    "matches = matches.merge(rankings, \n",
    "                        left_on=['date', 'away_team'], \n",
    "                        right_on=['rank_date', 'country_full'], \n",
    "                        suffixes=('_home', '_away'))"
   ]
  },
  {
   "cell_type": "code",
   "execution_count": null,
   "metadata": {
    "_uuid": "107fa4816e6db551811abd9fc784c34f1ad63682"
   },
   "outputs": [],
   "source": [
    "# feature generation\n",
    "matches['rank_difference'] = matches['rank_home'] - matches['rank_away']\n",
    "matches['point_difference'] = matches['weighted_points_home'] - matches['weighted_points_away']\n",
    "matches['score_difference'] = matches['home_score'] - matches['away_score']\n",
    "matches['is_won'] = matches['score_difference'] > 0 # take draw as lost\n",
    "matches['is_stake'] = matches['tournament'] != 'Friendly'\n",
    "\n",
    "# I tried earlier rest days but it did not turn to be useful\n",
    "max_rest = 30\n",
    "matches['rest_days'] = matches.groupby('home_team').diff()['date'].dt.days.clip(0,max_rest).fillna(max_rest)\n",
    "\n",
    "# I tried earlier the team as well but that did not make a difference either\n",
    "matches['wc_participant'] = matches['home_team'] * matches['home_team'].isin(world_cup.index.tolist())\n",
    "matches['wc_participant'] = matches['wc_participant'].replace({'':'Other'})\n",
    "matches = matches.join(pd.get_dummies(matches['wc_participant']))\n",
    "matches.head()"
   ]
  },
  {
   "cell_type": "code",
   "execution_count": null,
   "metadata": {},
   "outputs": [],
   "source": [
    "matches.to_csv('data.csv', sep=',', index=False)"
   ]
  },
  {
   "cell_type": "markdown",
   "metadata": {
    "_uuid": "f67d4cba7bc60580490e00507a0811803e12a6e6"
   },
   "source": [
    "# Modeling\n",
    "\n",
    "I used a simple Logistic regression, which yielded already rather good performance"
   ]
  },
  {
   "cell_type": "code",
   "execution_count": 5,
   "metadata": {
    "_uuid": "78e3186d0e783cf2a4cb1a141a8d0ffe9f2b59ba"
   },
   "outputs": [
    {
     "name": "stdout",
     "output_type": "stream",
     "text": [
      "             precision    recall  f1-score   support\n",
      "\n",
      "      False       0.69      0.69      0.69      1908\n",
      "       True       0.67      0.68      0.67      1788\n",
      "\n",
      "avg / total       0.68      0.68      0.68      3696\n",
      "\n"
     ]
    }
   ],
   "source": [
    "from sklearn import linear_model\n",
    "from sklearn import ensemble\n",
    "from sklearn.model_selection import train_test_split\n",
    "from sklearn.metrics import confusion_matrix, roc_curve, roc_auc_score\n",
    "from sklearn.pipeline import Pipeline\n",
    "from sklearn.preprocessing import PolynomialFeatures\n",
    "from sklearn.metrics import *\n",
    "\n",
    "X, y = matches.loc[:,['rank_home', 'rank_difference', 'point_difference', 'is_stake']], matches['is_won']\n",
    "X_train, X_test, y_train, y_test = train_test_split(\n",
    "    X, y, test_size=0.2, random_state=42)\n",
    "\n",
    "logreg = linear_model.LogisticRegression(C=1e-5)\n",
    "features = PolynomialFeatures(degree=2)\n",
    "model = Pipeline([\n",
    "    ('polynomial_features', features),\n",
    "    ('logistic_regression', logreg)])\n",
    "model = model.fit(X_train, y_train)\n",
    "y_pred = model.predict(X_test)\n",
    "\n",
    "metrics = classification_report(y_test, y_pred)\n",
    "print(metrics)"
   ]
  },
  {
   "cell_type": "markdown",
   "metadata": {
    "_uuid": "479b97e38320c9eba008210903b17951edc84727"
   },
   "source": [
    "# World Cup simulation"
   ]
  },
  {
   "cell_type": "markdown",
   "metadata": {
    "_uuid": "16eae35346f7a015d627801e05d0d408f3091964"
   },
   "source": [
    "## Group rounds"
   ]
  },
  {
   "cell_type": "code",
   "execution_count": 6,
   "metadata": {
    "_uuid": "db455e9096f0a41a0abd512193222f366d42c4c8"
   },
   "outputs": [],
   "source": [
    "# let's define a small margin when we safer to predict draw then win\n",
    "margin = 0.05\n",
    "\n",
    "# let's define the rankings at the time of the World Cup\n",
    "world_cup_rankings = rankings.loc[(rankings['rank_date'] == rankings['rank_date'].max()) & \n",
    "                                    rankings['country_full'].isin(world_cup.index.unique())]\n",
    "world_cup_rankings = world_cup_rankings.set_index(['country_full'])"
   ]
  },
  {
   "cell_type": "code",
   "execution_count": 7,
   "metadata": {},
   "outputs": [],
   "source": [
    "world_cup_rankings.to_csv('organizacaoCopa2018.csv', sep=',', index = False)"
   ]
  },
  {
   "cell_type": "code",
   "execution_count": 8,
   "metadata": {},
   "outputs": [],
   "source": [
    "world_cup.to_csv('FaseGrupos.csv', sep=',', index=False)"
   ]
  },
  {
   "cell_type": "code",
   "execution_count": 9,
   "metadata": {
    "_uuid": "fd197611ef601dcc41c59f48f37f66bec6d2d669"
   },
   "outputs": [
    {
     "name": "stdout",
     "output_type": "stream",
     "text": [
      "___Starting group E:___\n",
      "Brazil vs. Switzerland: Draw\n",
      "Brazil vs. Costa Rica: Brazil wins with 0.62\n",
      "Brazil vs. Serbia: Brazil wins with 0.67\n",
      "Switzerland vs. Costa Rica: Switzerland wins with 0.59\n",
      "Switzerland vs. Serbia: Switzerland wins with 0.64\n",
      "Costa Rica vs. Serbia: Draw\n",
      "___Starting group A:___\n",
      "Russia vs. Saudi Arabia: Saudi Arabia wins with 0.55\n",
      "Russia vs. Egypt: Egypt wins with 0.66\n",
      "Russia vs. Uruguay: Uruguay wins with 0.83\n",
      "Saudi Arabia vs. Egypt: Egypt wins with 0.65\n",
      "Saudi Arabia vs. Uruguay: Uruguay wins with 0.83\n",
      "Egypt vs. Uruguay: Uruguay wins with 0.74\n",
      "___Starting group D:___\n",
      "Argentina vs. Iceland: Argentina wins with 0.60\n",
      "Argentina vs. Croatia: Argentina wins with 0.59\n",
      "Argentina vs. Nigeria: Argentina wins with 0.70\n",
      "Iceland vs. Croatia: Draw\n",
      "Iceland vs. Nigeria: Iceland wins with 0.62\n",
      "Croatia vs. Nigeria: Croatia wins with 0.63\n",
      "___Starting group G:___\n",
      "Belgium vs. Panama: Belgium wins with 0.73\n",
      "Belgium vs. Tunisia: Belgium wins with 0.61\n",
      "Belgium vs. England: Belgium wins with 0.57\n",
      "Panama vs. Tunisia: Tunisia wins with 0.73\n",
      "Panama vs. England: England wins with 0.77\n",
      "Tunisia vs. England: England wins with 0.57\n",
      "___Starting group B:___\n",
      "Portugal vs. Spain: Draw\n",
      "Portugal vs. Morocco: Portugal wins with 0.68\n",
      "Portugal vs. Iran: Portugal wins with 0.67\n",
      "Spain vs. Morocco: Spain wins with 0.65\n",
      "Spain vs. Iran: Spain wins with 0.64\n",
      "Morocco vs. Iran: Draw\n",
      "___Starting group F:___\n",
      "Germany vs. Mexico: Germany wins with 0.60\n",
      "Germany vs. Sweden: Germany wins with 0.63\n",
      "Germany vs. Korea Republic: Germany wins with 0.71\n",
      "Mexico vs. Sweden: Draw\n",
      "Mexico vs. Korea Republic: Mexico wins with 0.68\n",
      "Sweden vs. Korea Republic: Sweden wins with 0.64\n",
      "___Starting group H:___\n",
      "Poland vs. Senegal: Poland wins with 0.60\n",
      "Poland vs. Colombia: Draw\n",
      "Poland vs. Japan: Poland wins with 0.73\n",
      "Senegal vs. Colombia: Colombia wins with 0.59\n",
      "Senegal vs. Japan: Senegal wins with 0.65\n",
      "Colombia vs. Japan: Colombia wins with 0.70\n",
      "___Starting group C:___\n",
      "France vs. Australia: France wins with 0.65\n",
      "France vs. Peru: Draw\n",
      "France vs. Denmark: Draw\n",
      "Australia vs. Peru: Peru wins with 0.68\n",
      "Australia vs. Denmark: Denmark wins with 0.70\n",
      "Peru vs. Denmark: Draw\n"
     ]
    }
   ],
   "source": [
    "from itertools import combinations\n",
    "\n",
    "opponents = ['First match \\nagainst', 'Second match\\n against', 'Third match\\n against']\n",
    "\n",
    "world_cup['points'] = 0\n",
    "world_cup['total_prob'] = 0\n",
    "\n",
    "for group in set(world_cup['Group']):\n",
    "    print('___Starting group {}:___'.format(group))\n",
    "    for home, away in combinations(world_cup.query('Group == \"{}\"'.format(group)).index, 2):\n",
    "        print(\"{} vs. {}: \".format(home, away), end='')\n",
    "        row = pd.DataFrame(np.array([[np.nan, np.nan, np.nan, True]]), columns=X_test.columns)\n",
    "        row['rank_home'] = world_cup_rankings.loc[home, 'rank']\n",
    "        home_points = world_cup_rankings.loc[home, 'weighted_points']\n",
    "        opp_rank = world_cup_rankings.loc[away, 'rank']\n",
    "        opp_points = world_cup_rankings.loc[away, 'weighted_points']\n",
    "        row['rank_difference'] = row['rank_home'] - opp_rank\n",
    "        row['point_difference'] = home_points - opp_points\n",
    "        \n",
    "        home_win_prob = model.predict_proba(row)[:,1][0]\n",
    "        world_cup.loc[home, 'total_prob'] += home_win_prob\n",
    "        world_cup.loc[away, 'total_prob'] += 1-home_win_prob\n",
    "        \n",
    "        points = 0\n",
    "        if home_win_prob <= 0.5 - margin:\n",
    "            print(\"{} wins with {:.2f}\".format(away, 1-home_win_prob))\n",
    "            world_cup.loc[away, 'points'] += 3\n",
    "        if home_win_prob > 0.5 - margin:\n",
    "            points = 1\n",
    "        if home_win_prob >= 0.5 + margin:\n",
    "            points = 3\n",
    "            world_cup.loc[home, 'points'] += 3\n",
    "            print(\"{} wins with {:.2f}\".format(home, home_win_prob))\n",
    "        if points == 1:\n",
    "            print(\"Draw\")\n",
    "            world_cup.loc[home, 'points'] += 1\n",
    "            world_cup.loc[away, 'points'] += 1"
   ]
  },
  {
   "cell_type": "markdown",
   "metadata": {
    "_uuid": "b2c787fd8541c281f736a4c6b698839f565ac1b8"
   },
   "source": [
    "## Single-elimination rounds"
   ]
  },
  {
   "cell_type": "code",
   "execution_count": 10,
   "metadata": {
    "_uuid": "2eb8426dfc5e4fdd985e8109179e34dac2e9c976"
   },
   "outputs": [
    {
     "name": "stdout",
     "output_type": "stream",
     "text": [
      "___Starting of the round_of_16___\n",
      "Uruguay vs. Spain: Spain wins with probability 0.54\n",
      "Denmark vs. Croatia: Denmark wins with probability 0.55\n",
      "Brazil vs. Mexico: Brazil wins with probability 0.58\n",
      "Belgium vs. Colombia: Belgium wins with probability 0.59\n",
      "Egypt vs. Portugal: Portugal wins with probability 0.81\n",
      "France vs. Argentina: Argentina wins with probability 0.53\n",
      "Switzerland vs. Germany: Germany wins with probability 0.60\n",
      "England vs. Poland: Poland wins with probability 0.53\n",
      "\n",
      "\n",
      "___Starting of the quarterfinal___\n",
      "Spain vs. Denmark: Denmark wins with probability 0.51\n",
      "Brazil vs. Belgium: Belgium wins with probability 0.51\n",
      "Portugal vs. Argentina: Portugal wins with probability 0.51\n",
      "Germany vs. Poland: Germany wins with probability 0.57\n",
      "\n",
      "\n",
      "___Starting of the semifinal___\n",
      "Denmark vs. Belgium: Belgium wins with probability 0.57\n",
      "Portugal vs. Germany: Germany wins with probability 0.56\n",
      "\n",
      "\n",
      "___Starting of the final___\n",
      "Belgium vs. Germany: Germany wins with probability 0.54\n",
      "\n",
      "\n"
     ]
    }
   ],
   "source": [
    "pairing = [0,3,4,7,8,11,12,15,1,2,5,6,9,10,13,14]\n",
    "\n",
    "world_cup = world_cup.sort_values(by=['Group', 'points', 'total_prob'], ascending=False).reset_index()\n",
    "next_round_wc = world_cup.groupby('Group').nth([0, 1]) # select the top 2\n",
    "next_round_wc = next_round_wc.reset_index()\n",
    "next_round_wc = next_round_wc.loc[pairing]\n",
    "next_round_wc = next_round_wc.set_index('Team')\n",
    "\n",
    "finals = ['round_of_16', 'quarterfinal', 'semifinal', 'final']\n",
    "\n",
    "labels = list()\n",
    "odds = list()\n",
    "\n",
    "for f in finals:\n",
    "    print(\"___Starting of the {}___\".format(f))\n",
    "    iterations = int(len(next_round_wc) / 2)\n",
    "    winners = []\n",
    "\n",
    "    for i in range(iterations):\n",
    "        home = next_round_wc.index[i*2]\n",
    "        away = next_round_wc.index[i*2+1]\n",
    "        print(\"{} vs. {}: \".format(home,\n",
    "                                   away), \n",
    "                                   end='')\n",
    "        row = pd.DataFrame(np.array([[np.nan, np.nan, np.nan, True]]), columns=X_test.columns)\n",
    "        row['rank_home'] = world_cup_rankings.loc[home, 'rank']\n",
    "        home_points = world_cup_rankings.loc[home, 'weighted_points']\n",
    "        opp_rank = world_cup_rankings.loc[away, 'rank']\n",
    "        opp_points = world_cup_rankings.loc[away, 'weighted_points']\n",
    "        row['rank_difference'] = row['rank_home'] - opp_rank\n",
    "        row['point_difference'] = home_points - opp_points\n",
    "\n",
    "        home_win_prob = model.predict_proba(row)[:,1][0]\n",
    "        if model.predict_proba(row)[:,1] <= 0.5:\n",
    "            print(\"{0} wins with probability {1:.2f}\".format(away, 1-home_win_prob))\n",
    "            winners.append(away)\n",
    "        else:\n",
    "            print(\"{0} wins with probability {1:.2f}\".format(home, home_win_prob))\n",
    "            winners.append(home)\n",
    "\n",
    "        labels.append(\"{}({:.2f}) vs. {}({:.2f})\".format(world_cup_rankings.loc[home, 'country_abrv'], \n",
    "                                                        1/home_win_prob, \n",
    "                                                        world_cup_rankings.loc[away, 'country_abrv'], \n",
    "                                                        1/(1-home_win_prob)))\n",
    "        odds.append([home_win_prob, 1-home_win_prob])\n",
    "                \n",
    "    next_round_wc = next_round_wc.loc[winners]\n",
    "    print(\"\\n\")"
   ]
  }
 ],
 "metadata": {
  "kernelspec": {
   "display_name": "Python 3",
   "language": "python",
   "name": "python3"
  },
  "language_info": {
   "codemirror_mode": {
    "name": "ipython",
    "version": 3
   },
   "file_extension": ".py",
   "mimetype": "text/x-python",
   "name": "python",
   "nbconvert_exporter": "python",
   "pygments_lexer": "ipython3",
   "version": "3.6.4"
  }
 },
 "nbformat": 4,
 "nbformat_minor": 2
}
